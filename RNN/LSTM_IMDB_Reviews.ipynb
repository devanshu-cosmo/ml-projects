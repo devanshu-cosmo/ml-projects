{
 "cells": [
  {
   "cell_type": "markdown",
   "id": "cb872a46-a1af-4dd2-ba03-9a4f94fa4ad8",
   "metadata": {},
   "source": [
    "## Imports: standard libraries, data processing, visualization, ML/DL\n"
   ]
  },
  {
   "cell_type": "code",
   "execution_count": 11,
   "id": "e0ce4c53",
   "metadata": {
    "collapsed": true,
    "jupyter": {
     "outputs_hidden": true
    }
   },
   "outputs": [],
   "source": [
    "import pandas as pd\n",
    "import numpy as np\n",
    "import matplotlib.pyplot as plt\n",
    "import seaborn as sns\n",
    "from datetime import datetime\n",
    "from sklearn.metrics import mean_squared_error, mean_absolute_error, root_mean_squared_error, r2_score, confusion_matrix, ConfusionMatrixDisplay, RocCurveDisplay, accuracy_score, classification_report, silhouette_score, precision_recall_curve, auc\n",
    "from sklearn.model_selection import learning_curve, train_test_split\n",
    "from sklearn.model_selection import ShuffleSplit\n",
    "from sklearn.preprocessing import StandardScaler\n",
    "from sklearn.datasets import make_blobs\n",
    "from pandas.plotting import parallel_coordinates\n",
    "from sklearn.decomposition import PCA\n",
    "import tensorflow as tf\n",
    "from tensorflow import keras\n",
    "from tensorflow.keras import layers\n",
    "from tensorflow.keras.datasets import imdb\n",
    "from tensorflow.keras.models import Sequential\n",
    "from tensorflow.keras.datasets import imdb\n",
    "from tensorflow.keras.preprocessing.sequence import pad_sequences\n",
    "from tensorflow.keras.preprocessing.text import text_to_word_sequence\n",
    "from tensorflow.keras.layers import Embedding, LSTM, Dense, Dropout, Bidirectional, Input\n",
    "from tensorflow.keras.callbacks import EarlyStopping\n",
    "\n",
    "\n",
    "# %matplotlib inline"
   ]
  },
  {
   "cell_type": "markdown",
   "id": "856d7386",
   "metadata": {},
   "source": [
    "## Loading and Preprocessing IMDB Dataset\n",
    "Download the IMDB movie reviews dataset, convert text to integer sequences, and pad sequences to a fixed length for the LSTM input.\n"
   ]
  },
  {
   "cell_type": "code",
   "execution_count": 12,
   "id": "3e09469a",
   "metadata": {
    "collapsed": true,
    "jupyter": {
     "outputs_hidden": true
    }
   },
   "outputs": [],
   "source": [
    "#first download data from imdb\n",
    "padding_length = 2000\n",
    "review_size = 20000 #set an upper limit on the length of review as a feature\n",
    "def load_and_preprocess_imdb(num_words=review_size, seq_len=padding_length):\n",
    "    (X_train, y_train), (X_test, y_test) = imdb.load_data(num_words=num_words)\n",
    "    X_train = pad_sequences(X_train, maxlen=seq_len, padding=\"post\", truncating=\"post\")\n",
    "    X_test = pad_sequences(X_test, maxlen=seq_len, padding=\"post\", truncating=\"post\")\n",
    "    return X_train, y_train, X_test, y_test\n",
    "\n",
    "X_train, y_train, X_test, y_test = load_and_preprocess_imdb()\n",
    "\n",
    "#the data is preprocessed, each integer represents a word\n",
    "#pad the reviews to fix the data length for the neural network\n",
    "\n"
   ]
  },
  {
   "cell_type": "markdown",
   "id": "d9a7b842-ce33-4bb7-baf9-6c2685de039c",
   "metadata": {},
   "source": [
    "## Perform embedding and also build the LSTM model"
   ]
  },
  {
   "cell_type": "code",
   "execution_count": 13,
   "id": "c12b0b55",
   "metadata": {
    "collapsed": true,
    "jupyter": {
     "outputs_hidden": true
    }
   },
   "outputs": [
    {
     "name": "stderr",
     "output_type": "stream",
     "text": [
      "/home/devanshu/jupyter_env/lib/python3.10/site-packages/keras/src/layers/core/embedding.py:97: UserWarning: Argument `input_length` is deprecated. Just remove it.\n",
      "  warnings.warn(\n"
     ]
    },
    {
     "data": {
      "text/html": [
       "<pre style=\"white-space:pre;overflow-x:auto;line-height:normal;font-family:Menlo,'DejaVu Sans Mono',consolas,'Courier New',monospace\"><span style=\"font-weight: bold\">Model: \"sequential_1\"</span>\n",
       "</pre>\n"
      ],
      "text/plain": [
       "\u001b[1mModel: \"sequential_1\"\u001b[0m\n"
      ]
     },
     "metadata": {},
     "output_type": "display_data"
    },
    {
     "data": {
      "text/html": [
       "<pre style=\"white-space:pre;overflow-x:auto;line-height:normal;font-family:Menlo,'DejaVu Sans Mono',consolas,'Courier New',monospace\">┏━━━━━━━━━━━━━━━━━━━━━━━━━━━━━━━━━┳━━━━━━━━━━━━━━━━━━━━━━━━┳━━━━━━━━━━━━━━━┓\n",
       "┃<span style=\"font-weight: bold\"> Layer (type)                    </span>┃<span style=\"font-weight: bold\"> Output Shape           </span>┃<span style=\"font-weight: bold\">       Param # </span>┃\n",
       "┡━━━━━━━━━━━━━━━━━━━━━━━━━━━━━━━━━╇━━━━━━━━━━━━━━━━━━━━━━━━╇━━━━━━━━━━━━━━━┩\n",
       "│ embedding_1 (<span style=\"color: #0087ff; text-decoration-color: #0087ff\">Embedding</span>)         │ (<span style=\"color: #00d7ff; text-decoration-color: #00d7ff\">None</span>, <span style=\"color: #00af00; text-decoration-color: #00af00\">2000</span>, <span style=\"color: #00af00; text-decoration-color: #00af00\">128</span>)      │     <span style=\"color: #00af00; text-decoration-color: #00af00\">2,560,000</span> │\n",
       "├─────────────────────────────────┼────────────────────────┼───────────────┤\n",
       "│ bidirectional_1 (<span style=\"color: #0087ff; text-decoration-color: #0087ff\">Bidirectional</span>) │ (<span style=\"color: #00d7ff; text-decoration-color: #00d7ff\">None</span>, <span style=\"color: #00af00; text-decoration-color: #00af00\">256</span>)            │       <span style=\"color: #00af00; text-decoration-color: #00af00\">263,168</span> │\n",
       "├─────────────────────────────────┼────────────────────────┼───────────────┤\n",
       "│ dense_4 (<span style=\"color: #0087ff; text-decoration-color: #0087ff\">Dense</span>)                 │ (<span style=\"color: #00d7ff; text-decoration-color: #00d7ff\">None</span>, <span style=\"color: #00af00; text-decoration-color: #00af00\">64</span>)             │        <span style=\"color: #00af00; text-decoration-color: #00af00\">16,448</span> │\n",
       "├─────────────────────────────────┼────────────────────────┼───────────────┤\n",
       "│ dropout_3 (<span style=\"color: #0087ff; text-decoration-color: #0087ff\">Dropout</span>)             │ (<span style=\"color: #00d7ff; text-decoration-color: #00d7ff\">None</span>, <span style=\"color: #00af00; text-decoration-color: #00af00\">64</span>)             │             <span style=\"color: #00af00; text-decoration-color: #00af00\">0</span> │\n",
       "├─────────────────────────────────┼────────────────────────┼───────────────┤\n",
       "│ dense_5 (<span style=\"color: #0087ff; text-decoration-color: #0087ff\">Dense</span>)                 │ (<span style=\"color: #00d7ff; text-decoration-color: #00d7ff\">None</span>, <span style=\"color: #00af00; text-decoration-color: #00af00\">64</span>)             │         <span style=\"color: #00af00; text-decoration-color: #00af00\">4,160</span> │\n",
       "├─────────────────────────────────┼────────────────────────┼───────────────┤\n",
       "│ dropout_4 (<span style=\"color: #0087ff; text-decoration-color: #0087ff\">Dropout</span>)             │ (<span style=\"color: #00d7ff; text-decoration-color: #00d7ff\">None</span>, <span style=\"color: #00af00; text-decoration-color: #00af00\">64</span>)             │             <span style=\"color: #00af00; text-decoration-color: #00af00\">0</span> │\n",
       "├─────────────────────────────────┼────────────────────────┼───────────────┤\n",
       "│ dense_6 (<span style=\"color: #0087ff; text-decoration-color: #0087ff\">Dense</span>)                 │ (<span style=\"color: #00d7ff; text-decoration-color: #00d7ff\">None</span>, <span style=\"color: #00af00; text-decoration-color: #00af00\">64</span>)             │         <span style=\"color: #00af00; text-decoration-color: #00af00\">4,160</span> │\n",
       "├─────────────────────────────────┼────────────────────────┼───────────────┤\n",
       "│ dropout_5 (<span style=\"color: #0087ff; text-decoration-color: #0087ff\">Dropout</span>)             │ (<span style=\"color: #00d7ff; text-decoration-color: #00d7ff\">None</span>, <span style=\"color: #00af00; text-decoration-color: #00af00\">64</span>)             │             <span style=\"color: #00af00; text-decoration-color: #00af00\">0</span> │\n",
       "├─────────────────────────────────┼────────────────────────┼───────────────┤\n",
       "│ dense_7 (<span style=\"color: #0087ff; text-decoration-color: #0087ff\">Dense</span>)                 │ (<span style=\"color: #00d7ff; text-decoration-color: #00d7ff\">None</span>, <span style=\"color: #00af00; text-decoration-color: #00af00\">1</span>)              │            <span style=\"color: #00af00; text-decoration-color: #00af00\">65</span> │\n",
       "└─────────────────────────────────┴────────────────────────┴───────────────┘\n",
       "</pre>\n"
      ],
      "text/plain": [
       "┏━━━━━━━━━━━━━━━━━━━━━━━━━━━━━━━━━┳━━━━━━━━━━━━━━━━━━━━━━━━┳━━━━━━━━━━━━━━━┓\n",
       "┃\u001b[1m \u001b[0m\u001b[1mLayer (type)                   \u001b[0m\u001b[1m \u001b[0m┃\u001b[1m \u001b[0m\u001b[1mOutput Shape          \u001b[0m\u001b[1m \u001b[0m┃\u001b[1m \u001b[0m\u001b[1m      Param #\u001b[0m\u001b[1m \u001b[0m┃\n",
       "┡━━━━━━━━━━━━━━━━━━━━━━━━━━━━━━━━━╇━━━━━━━━━━━━━━━━━━━━━━━━╇━━━━━━━━━━━━━━━┩\n",
       "│ embedding_1 (\u001b[38;5;33mEmbedding\u001b[0m)         │ (\u001b[38;5;45mNone\u001b[0m, \u001b[38;5;34m2000\u001b[0m, \u001b[38;5;34m128\u001b[0m)      │     \u001b[38;5;34m2,560,000\u001b[0m │\n",
       "├─────────────────────────────────┼────────────────────────┼───────────────┤\n",
       "│ bidirectional_1 (\u001b[38;5;33mBidirectional\u001b[0m) │ (\u001b[38;5;45mNone\u001b[0m, \u001b[38;5;34m256\u001b[0m)            │       \u001b[38;5;34m263,168\u001b[0m │\n",
       "├─────────────────────────────────┼────────────────────────┼───────────────┤\n",
       "│ dense_4 (\u001b[38;5;33mDense\u001b[0m)                 │ (\u001b[38;5;45mNone\u001b[0m, \u001b[38;5;34m64\u001b[0m)             │        \u001b[38;5;34m16,448\u001b[0m │\n",
       "├─────────────────────────────────┼────────────────────────┼───────────────┤\n",
       "│ dropout_3 (\u001b[38;5;33mDropout\u001b[0m)             │ (\u001b[38;5;45mNone\u001b[0m, \u001b[38;5;34m64\u001b[0m)             │             \u001b[38;5;34m0\u001b[0m │\n",
       "├─────────────────────────────────┼────────────────────────┼───────────────┤\n",
       "│ dense_5 (\u001b[38;5;33mDense\u001b[0m)                 │ (\u001b[38;5;45mNone\u001b[0m, \u001b[38;5;34m64\u001b[0m)             │         \u001b[38;5;34m4,160\u001b[0m │\n",
       "├─────────────────────────────────┼────────────────────────┼───────────────┤\n",
       "│ dropout_4 (\u001b[38;5;33mDropout\u001b[0m)             │ (\u001b[38;5;45mNone\u001b[0m, \u001b[38;5;34m64\u001b[0m)             │             \u001b[38;5;34m0\u001b[0m │\n",
       "├─────────────────────────────────┼────────────────────────┼───────────────┤\n",
       "│ dense_6 (\u001b[38;5;33mDense\u001b[0m)                 │ (\u001b[38;5;45mNone\u001b[0m, \u001b[38;5;34m64\u001b[0m)             │         \u001b[38;5;34m4,160\u001b[0m │\n",
       "├─────────────────────────────────┼────────────────────────┼───────────────┤\n",
       "│ dropout_5 (\u001b[38;5;33mDropout\u001b[0m)             │ (\u001b[38;5;45mNone\u001b[0m, \u001b[38;5;34m64\u001b[0m)             │             \u001b[38;5;34m0\u001b[0m │\n",
       "├─────────────────────────────────┼────────────────────────┼───────────────┤\n",
       "│ dense_7 (\u001b[38;5;33mDense\u001b[0m)                 │ (\u001b[38;5;45mNone\u001b[0m, \u001b[38;5;34m1\u001b[0m)              │            \u001b[38;5;34m65\u001b[0m │\n",
       "└─────────────────────────────────┴────────────────────────┴───────────────┘\n"
      ]
     },
     "metadata": {},
     "output_type": "display_data"
    },
    {
     "data": {
      "text/html": [
       "<pre style=\"white-space:pre;overflow-x:auto;line-height:normal;font-family:Menlo,'DejaVu Sans Mono',consolas,'Courier New',monospace\"><span style=\"font-weight: bold\"> Total params: </span><span style=\"color: #00af00; text-decoration-color: #00af00\">2,848,001</span> (10.86 MB)\n",
       "</pre>\n"
      ],
      "text/plain": [
       "\u001b[1m Total params: \u001b[0m\u001b[38;5;34m2,848,001\u001b[0m (10.86 MB)\n"
      ]
     },
     "metadata": {},
     "output_type": "display_data"
    },
    {
     "data": {
      "text/html": [
       "<pre style=\"white-space:pre;overflow-x:auto;line-height:normal;font-family:Menlo,'DejaVu Sans Mono',consolas,'Courier New',monospace\"><span style=\"font-weight: bold\"> Trainable params: </span><span style=\"color: #00af00; text-decoration-color: #00af00\">2,848,001</span> (10.86 MB)\n",
       "</pre>\n"
      ],
      "text/plain": [
       "\u001b[1m Trainable params: \u001b[0m\u001b[38;5;34m2,848,001\u001b[0m (10.86 MB)\n"
      ]
     },
     "metadata": {},
     "output_type": "display_data"
    },
    {
     "data": {
      "text/html": [
       "<pre style=\"white-space:pre;overflow-x:auto;line-height:normal;font-family:Menlo,'DejaVu Sans Mono',consolas,'Courier New',monospace\"><span style=\"font-weight: bold\"> Non-trainable params: </span><span style=\"color: #00af00; text-decoration-color: #00af00\">0</span> (0.00 B)\n",
       "</pre>\n"
      ],
      "text/plain": [
       "\u001b[1m Non-trainable params: \u001b[0m\u001b[38;5;34m0\u001b[0m (0.00 B)\n"
      ]
     },
     "metadata": {},
     "output_type": "display_data"
    }
   ],
   "source": [
    "def build_LSTM():\n",
    "    LSTM_model = keras.Sequential([Input(shape=(padding_length,)),\n",
    "        Embedding(input_dim=review_size, output_dim=128, input_length=padding_length),\n",
    "        \n",
    "    # Bidirectional wrapper processes sequence in both directions\n",
    "    Bidirectional(LSTM(units=128, \n",
    "                       return_sequences=False,\n",
    "                       dropout=0.25,         # Regularization\n",
    "                       recurrent_dropout=0.25)),\n",
    "    \n",
    "    # Fully connected layer\n",
    "    Dense(64, activation='relu'),\n",
    "    Dropout(0.25),\n",
    "    Dense(64, activation='relu'),\n",
    "    Dropout(0.25),\n",
    "    Dense(64, activation='relu'),\n",
    "    Dropout(0.25),                               \n",
    "                                   \n",
    "    # Output layer\n",
    "    Dense(1, activation='sigmoid')\n",
    "      ])\n",
    "    \n",
    "    LSTM_model.compile(optimizer=keras.optimizers.Adam(learning_rate=0.005),\n",
    "                      loss=\"binary_crossentropy\",\n",
    "                      metrics=[\"accuracy\"])\n",
    "    \n",
    "    return LSTM_model\n",
    "\n",
    "LSTM_model = build_LSTM()\n",
    "LSTM_model.summary()"
   ]
  },
  {
   "cell_type": "markdown",
   "id": "627336c0-e04c-4217-8be4-a52ad8212758",
   "metadata": {},
   "source": [
    "## Training the Bi-LSTM Model\n",
    "Define early stopping to prevent overfitting, train the LSTM model, and plot training/validation accuracy and loss curves."
   ]
  },
  {
   "cell_type": "code",
   "execution_count": 16,
   "id": "0308f74a-44ca-4d88-b6a6-ecc3b1e7d4b6",
   "metadata": {
    "collapsed": true,
    "jupyter": {
     "outputs_hidden": true
    }
   },
   "outputs": [
    {
     "name": "stdout",
     "output_type": "stream",
     "text": [
      "Epoch 1/10\n",
      "\u001b[1m196/196\u001b[0m \u001b[32m━━━━━━━━━━━━━━━━━━━━\u001b[0m\u001b[37m\u001b[0m \u001b[1m441s\u001b[0m 2s/step - accuracy: 0.6008 - loss: 0.6578\n",
      "Epoch 2/10\n"
     ]
    },
    {
     "name": "stderr",
     "output_type": "stream",
     "text": [
      "/home/devanshu/jupyter_env/lib/python3.10/site-packages/keras/src/callbacks/early_stopping.py:99: UserWarning: Early stopping conditioned on metric `val_loss` which is not available. Available metrics are: accuracy,loss\n",
      "  current = self.get_monitor_value(logs)\n"
     ]
    },
    {
     "name": "stdout",
     "output_type": "stream",
     "text": [
      "\u001b[1m196/196\u001b[0m \u001b[32m━━━━━━━━━━━━━━━━━━━━\u001b[0m\u001b[37m\u001b[0m \u001b[1m438s\u001b[0m 2s/step - accuracy: 0.8210 - loss: 0.4160\n",
      "Epoch 3/10\n",
      "\u001b[1m196/196\u001b[0m \u001b[32m━━━━━━━━━━━━━━━━━━━━\u001b[0m\u001b[37m\u001b[0m \u001b[1m445s\u001b[0m 2s/step - accuracy: 0.9274 - loss: 0.2098\n",
      "Epoch 4/10\n",
      "\u001b[1m196/196\u001b[0m \u001b[32m━━━━━━━━━━━━━━━━━━━━\u001b[0m\u001b[37m\u001b[0m \u001b[1m442s\u001b[0m 2s/step - accuracy: 0.9586 - loss: 0.1293\n",
      "Epoch 5/10\n",
      "\u001b[1m196/196\u001b[0m \u001b[32m━━━━━━━━━━━━━━━━━━━━\u001b[0m\u001b[37m\u001b[0m \u001b[1m442s\u001b[0m 2s/step - accuracy: 0.9773 - loss: 0.0766\n",
      "Epoch 6/10\n",
      "\u001b[1m196/196\u001b[0m \u001b[32m━━━━━━━━━━━━━━━━━━━━\u001b[0m\u001b[37m\u001b[0m \u001b[1m443s\u001b[0m 2s/step - accuracy: 0.9868 - loss: 0.0437\n",
      "Epoch 7/10\n",
      "\u001b[1m196/196\u001b[0m \u001b[32m━━━━━━━━━━━━━━━━━━━━\u001b[0m\u001b[37m\u001b[0m \u001b[1m442s\u001b[0m 2s/step - accuracy: 0.9910 - loss: 0.0299\n",
      "Epoch 8/10\n",
      "\u001b[1m196/196\u001b[0m \u001b[32m━━━━━━━━━━━━━━━━━━━━\u001b[0m\u001b[37m\u001b[0m \u001b[1m444s\u001b[0m 2s/step - accuracy: 0.9927 - loss: 0.0237\n",
      "Epoch 9/10\n",
      "\u001b[1m196/196\u001b[0m \u001b[32m━━━━━━━━━━━━━━━━━━━━\u001b[0m\u001b[37m\u001b[0m \u001b[1m441s\u001b[0m 2s/step - accuracy: 0.9951 - loss: 0.0167\n",
      "Epoch 10/10\n",
      "\u001b[1m196/196\u001b[0m \u001b[32m━━━━━━━━━━━━━━━━━━━━\u001b[0m\u001b[37m\u001b[0m \u001b[1m443s\u001b[0m 2s/step - accuracy: 0.9724 - loss: 0.0593\n"
     ]
    }
   ],
   "source": [
    "def train_model(model, X_train, y_train, batch_size=128, epochs=10, patience=3):\n",
    "    early_stop_cb = EarlyStopping(monitor=\"val_loss\", patience=1, restore_best_weights=True)\n",
    "    history = model.fit(\n",
    "        X_train, y_train,\n",
    "        # validation_data=(X_val, y_val),\n",
    "        validation_split=0.2,\n",
    "        epochs=epochs, batch_size=batch_size,\n",
    "        callbacks=[early_stop_cb], verbose=1\n",
    "    )\n",
    "    return history\n",
    "\n",
    "training_LSTM = train_model(LSTM_model, X_train, y_train)"
   ]
  },
  {
   "cell_type": "code",
   "execution_count": 17,
   "id": "c3e01f22",
   "metadata": {
    "collapsed": true,
    "jupyter": {
     "outputs_hidden": true
    }
   },
   "outputs": [
    {
     "ename": "KeyError",
     "evalue": "'val_accuracy'",
     "output_type": "error",
     "traceback": [
      "\u001b[0;31m---------------------------------------------------------------------------\u001b[0m",
      "\u001b[0;31mKeyError\u001b[0m                                  Traceback (most recent call last)",
      "Cell \u001b[0;32mIn[17], line 24\u001b[0m\n\u001b[1;32m     21\u001b[0m     plt\u001b[38;5;241m.\u001b[39mtight_layout()\n\u001b[1;32m     22\u001b[0m     plt\u001b[38;5;241m.\u001b[39mshow()\n\u001b[0;32m---> 24\u001b[0m \u001b[43mplot_history\u001b[49m\u001b[43m(\u001b[49m\u001b[43mtraining_LSTM\u001b[49m\u001b[43m)\u001b[49m\n",
      "Cell \u001b[0;32mIn[17], line 7\u001b[0m, in \u001b[0;36mplot_history\u001b[0;34m(history)\u001b[0m\n\u001b[1;32m      5\u001b[0m plt\u001b[38;5;241m.\u001b[39msubplot(\u001b[38;5;241m1\u001b[39m, \u001b[38;5;241m2\u001b[39m, \u001b[38;5;241m1\u001b[39m)\n\u001b[1;32m      6\u001b[0m plt\u001b[38;5;241m.\u001b[39mplot(history\u001b[38;5;241m.\u001b[39mhistory[\u001b[38;5;124m\"\u001b[39m\u001b[38;5;124maccuracy\u001b[39m\u001b[38;5;124m\"\u001b[39m], label\u001b[38;5;241m=\u001b[39m\u001b[38;5;124m\"\u001b[39m\u001b[38;5;124mTraining Accuracy\u001b[39m\u001b[38;5;124m\"\u001b[39m)\n\u001b[0;32m----> 7\u001b[0m plt\u001b[38;5;241m.\u001b[39mplot(\u001b[43mhistory\u001b[49m\u001b[38;5;241;43m.\u001b[39;49m\u001b[43mhistory\u001b[49m\u001b[43m[\u001b[49m\u001b[38;5;124;43m\"\u001b[39;49m\u001b[38;5;124;43mval_accuracy\u001b[39;49m\u001b[38;5;124;43m\"\u001b[39;49m\u001b[43m]\u001b[49m, label\u001b[38;5;241m=\u001b[39m\u001b[38;5;124m\"\u001b[39m\u001b[38;5;124mValidation Accuracy\u001b[39m\u001b[38;5;124m\"\u001b[39m)\n\u001b[1;32m      8\u001b[0m plt\u001b[38;5;241m.\u001b[39mtitle(\u001b[38;5;124m\"\u001b[39m\u001b[38;5;124mAccuracy over Epochs\u001b[39m\u001b[38;5;124m\"\u001b[39m)\n\u001b[1;32m      9\u001b[0m plt\u001b[38;5;241m.\u001b[39mxlabel(\u001b[38;5;124m\"\u001b[39m\u001b[38;5;124mEpoch\u001b[39m\u001b[38;5;124m\"\u001b[39m)\n",
      "\u001b[0;31mKeyError\u001b[0m: 'val_accuracy'"
     ]
    },
    {
     "data": {
      "image/png": "[encoded data removed]",
      "text/plain": [
       "<Figure size 1200x400 with 1 Axes>"
      ]
     },
     "metadata": {},
     "output_type": "display_data"
    }
   ],
   "source": [
    "stop_early = EarlyStopping(monitor=\"val_loss\", patience=1) #patience sets the number of epochs of no change in val_loss to wait\n",
    "\n",
    "#train the LSTM model\n",
    "\n",
    "training_LSTM = LSTM_model.fit(X_train, y_train, epochs=10, batch_size=128, validation_split=0.2, verbose=1, callbacks=[stop_early])#, callbacks=[stop_early]\n",
    "\n",
    "#visualize the results of training\n",
    "def plot_history(history):\n",
    "    plt.figure(figsize=(12, 4))\n",
    "    \n",
    "    plt.subplot(1, 2, 1)\n",
    "    plt.plot(history.history[\"accuracy\"], label=\"Training Accuracy\")\n",
    "    plt.plot(history.history[\"val_accuracy\"], label=\"Validation Accuracy\")\n",
    "    plt.title(\"Accuracy over Epochs\")\n",
    "    plt.xlabel(\"Epoch\")\n",
    "    plt.ylabel(\"Accuracy\")\n",
    "    plt.legend()\n",
    "    \n",
    "    plt.subplot(1, 2, 2)\n",
    "    plt.plot(history.history[\"loss\"], label=\"Training Loss\")\n",
    "    plt.plot(history.history[\"val_loss\"], label=\"Validation Loss\")\n",
    "    plt.title(\"Loss over Epochs\")\n",
    "    plt.xlabel(\"Epoch\")\n",
    "    plt.ylabel(\"Loss\")\n",
    "    plt.legend()\n",
    "    \n",
    "    plt.tight_layout()\n",
    "    plt.show()\n",
    "\n",
    "plot_history(training_LSTM)"
   ]
  },
  {
   "cell_type": "markdown",
   "id": "8b011a7e",
   "metadata": {},
   "source": [
    "## Threshold Tuning for Classification\n",
    "Analyze precision-recall tradeoffs and adjust the decision threshold to optimize model performance.\n"
   ]
  },
  {
   "cell_type": "code",
   "execution_count": 5,
   "id": "8808cb84",
   "metadata": {
    "collapsed": true,
    "jupyter": {
     "outputs_hidden": true
    }
   },
   "outputs": [
    {
     "name": "stdout",
     "output_type": "stream",
     "text": [
      "\u001b[1m782/782\u001b[0m \u001b[32m━━━━━━━━━━━━━━━━━━━━\u001b[0m\u001b[37m\u001b[0m \u001b[1m359s\u001b[0m 458ms/step\n"
     ]
    },
    {
     "data": {
      "image/png": "[encoded data removed]",
      "text/plain": [
       "<Figure size 432x288 with 1 Axes>"
      ]
     },
     "metadata": {
      "needs_background": "light"
     },
     "output_type": "display_data"
    }
   ],
   "source": [
    "#Tune the threshold for separating positive and negative reviews\n",
    "#check and compute the class imbalance\n",
    "#higher precision pushes the threshold to higher values\n",
    "#higher recall pulls the threshold to lower values\n",
    "\n",
    "y_train_probability = LSTM_model.predict(X_train).ravel()\n",
    "plt.hist(y_train_probability,log=True, bins=30)\n",
    "\n",
    "def set_threshold(switch):\n",
    "    precision, recall, thresholds = precision_recall_curve(y_train, y_train_probability)\n",
    "\n",
    "    #maximize the F1 score to achieve precision--recall balance\n",
    "    f1_scores = 2 * (precision * recall) / (precision + recall + 1e-10)\n",
    "    optimal_threshold_f1 = thresholds[np.argmax(f1_scores)]\n",
    "    print(f\"Optimal threshold for maximized F1 score: {optimal_threshold_f1:.3f}\")\n",
    "\n",
    "    #Other approach to compute optimal threshold\n",
    "    #try to aim for as high precision as possible, avoid false positives\n",
    "    precision_goal = 0.95\n",
    "    optimal_threshold_precision = thresholds[np.where(precision >= precision_goal)[0][0]]\n",
    "    print(f\"Optimal threshold for higher precision: {optimal_threshold_precision:.3f}\")\n",
    "    \n",
    "    #cost function approach to compute optimal threshold\n",
    "    cost_fp = 2.0  # Cost of false positive\n",
    "    cost_fn = 1.0   # Cost of false negative\n",
    "    #essentially, penalize false positive more\n",
    "    # Minimize expected cost\n",
    "    expected_cost = (cost_fp * (1 - precision) + cost_fn * (1 - recall))\n",
    "    optimal_idx = np.argmin(expected_cost)\n",
    "    optimal_threshold_costFn = thresholds[optimal_idx]\n",
    "    print(f\"Cost-optimal threshold: {optimal_threshold:.3f}\")\n",
    "    \n",
    "    if switch==\"f1\":\n",
    "        return optimal_threshold_f1\n",
    "    elif switch==\"precision\":\n",
    "        return optimal_threshold_precision\n",
    "    elif switch==\"cost_func\":\n",
    "        return optimal_threshold_costFn\n",
    "    else:\n",
    "        return 0.5\n",
    "\n",
    "\n"
   ]
  },
  {
   "cell_type": "markdown",
   "id": "3febf121",
   "metadata": {},
   "source": [
    "## Evaluating the Model on Test Data\n",
    "Measure model accuracy and loss on unseen test data, and define a function to decode reviews from their numerical representation back to text.\n"
   ]
  },
  {
   "cell_type": "code",
   "execution_count": 18,
   "id": "a49bcfa9-a58b-4350-8fe9-b6a0c1c96cf3",
   "metadata": {
    "collapsed": true,
    "jupyter": {
     "outputs_hidden": true
    }
   },
   "outputs": [
    {
     "name": "stdout",
     "output_type": "stream",
     "text": [
      "\u001b[1m782/782\u001b[0m \u001b[32m━━━━━━━━━━━━━━━━━━━━\u001b[0m\u001b[37m\u001b[0m \u001b[1m280s\u001b[0m 357ms/step\n",
      "Accuracy: 0.8590\n"
     ]
    }
   ],
   "source": [
    "def evaluate_model(model, X_test, y_test):\n",
    "    y_pred = model.predict(X_test)\n",
    "    y_pred_binary = (y_pred > 0.5).astype(int)\n",
    "    accuracy = accuracy_score(y_test, y_pred_binary)\n",
    "    print(f'Accuracy: {accuracy:.4f}')\n",
    "    # Add confusion matrix, classification report, etc.\n",
    "\n",
    "evaluate_model(LSTM_model, X_test, y_test)"
   ]
  },
  {
   "cell_type": "markdown",
   "id": "d3a79e10-75e6-4458-bf1b-fe9657211821",
   "metadata": {},
   "source": [
    "## Function for Predicting the Sentiments\n",
    "Create a structure to decrypt the encrypted review and feed it to the LSTM model to make predictions"
   ]
  },
  {
   "cell_type": "code",
   "execution_count": 6,
   "id": "4d126885",
   "metadata": {
    "collapsed": true,
    "jupyter": {
     "outputs_hidden": true
    }
   },
   "outputs": [
    {
     "name": "stdout",
     "output_type": "stream",
     "text": [
      "Test Loss: 0.3781123757362366\n",
      "Test Accuracy: 0.854200005531311\n"
     ]
    }
   ],
   "source": [
    "#predict the test dataset results\n",
    "# score_LSTM = LSTM_model.evaluate(X_test, y_test, verbose=0)\n",
    "# print(\"Test Loss:\", score_LSTM[0])\n",
    "# print(\"Test Accuracy:\", score_LSTM[1])\n",
    "\n",
    "#predict the category using the below function\n",
    "\n",
    "#first create the mapping from word to digits\n",
    "char_digit = imdb.get_word_index()\n",
    "digit_char_index = {a:b for b,a in char_digit.items()} \n",
    "\n",
    "def review_decrypt(encrypted_review): #takes in the encrypted vectorized review and decodes it to human readable format\n",
    "    return ' '.join([digit_char_index.get(i-3, '?') for i in encrypted_review])\n",
    "\n",
    "def review_predict(text):\n",
    "#     text = re.sub(r'[^\\w\\s]', '', text)  # Remove punctuation\n",
    "    # Step 1: Tokenize text (split into words and convert to lowercase)\n",
    "    tokens = tf.keras.preprocessing.text.text_to_word_sequence(text, lower=True)\n",
    "    \n",
    "    \n",
    "    # Step 2: Convert words to integers using IMDB's word index\n",
    "    tokens = [char_digit.get(word, 0) for word in tokens]  # 0 = unknown word\n",
    "    tokens = [min(idx, review_size - 1) for idx in tokens]  # Force indices to be < vocab_size\n",
    "#     print(type(tokens))\n",
    "    # Step 3: Pad/truncate to match model's input length (500)\n",
    "    padded = pad_sequences([tokens], maxlen=padding_length, padding='post', truncating='post')\n",
    "#     print(type(padded))\n",
    "    # Step 4: Predict sentiment (output is between 0 and 1)\n",
    "    pred = LSTM_model.predict(padded, verbose=0)[0][0]\n",
    "        # Step 5: Interpret prediction\n",
    "    sentiment = \"Positive\" if pred >= set_threshold(\"f1\") else \"Negative\"\n",
    "    confidence = pred #if pred > 0.5 else 1 - pred\n",
    "    \n",
    "    return f\"{sentiment} (Confidence: {confidence:.2f})\"\n",
    "\n"
   ]
  },
  {
   "cell_type": "markdown",
   "id": "17cc1a85",
   "metadata": {},
   "source": [
    "## Predicting Sentiment for Custom Reviews\n",
    "Test the trained model on custom-written reviews to check if predictions align with expectations.\n"
   ]
  },
  {
   "cell_type": "code",
   "execution_count": 7,
   "id": "4c1a7d29",
   "metadata": {
    "collapsed": true,
    "jupyter": {
     "outputs_hidden": true
    }
   },
   "outputs": [
    {
     "name": "stdout",
     "output_type": "stream",
     "text": [
      "Optimal threshold for maximized F1 score: 0.470\n",
      "Optimal threshold for higher precision: 0.029\n",
      "Prediction: Positive (Confidence: 0.98)\n",
      "\n",
      "Optimal threshold for maximized F1 score: 0.470\n",
      "Optimal threshold for higher precision: 0.029\n",
      "Prediction: Positive (Confidence: 0.95)\n",
      "\n",
      "Optimal threshold for maximized F1 score: 0.470\n",
      "Optimal threshold for higher precision: 0.029\n",
      "Prediction: Positive (Confidence: 0.99)\n",
      "\n",
      "Optimal threshold for maximized F1 score: 0.470\n",
      "Optimal threshold for higher precision: 0.029\n",
      "Prediction: Negative (Confidence: 0.34)\n",
      "\n",
      "Optimal threshold for maximized F1 score: 0.470\n",
      "Optimal threshold for higher precision: 0.029\n",
      "Prediction: Positive (Confidence: 1.00)\n",
      "\n"
     ]
    }
   ],
   "source": [
    "# custom_reviews = [\n",
    "#     \"good movie\",\n",
    "#     \"worst worst worst movie\",\n",
    "#     \"this movie was fantastic! the acting was brilliant.\",\n",
    "#     \"terrible plot and awful acting waste of time.\",\n",
    "#     \"it was okay, but the ending could have been better.\",\n",
    "#     \"the plot was boring and the acting was terrible\",\n",
    "#     \"do not waste your money on this movie\"\n",
    "# ]\n",
    "\n",
    "\n",
    "\n",
    "custom_reviews = [\n",
    "   \"Christopher Nolan’s The Dark Knight redefines the superhero genre with its gripping narrative, intense action, and Heath Ledger’s iconic performance as the Joker. The film balances psychological depth with blockbuster spectacle, exploring themes of chaos and morality. Hans Zimmer’s score elevates every scene, and the pacing never falters. Minor flaws? Some may find the runtime long, but it’s a small price for such a rich story. A timeless classic.\",\n",
    "    \"James Cameron’s Avatar delivers groundbreaking visuals but suffers from a clichéd plot and shallow characters. The world-building is impressive, yet the story feels like a rehash of Pocahontas in space. Dialogue is often cringe-worthy. Worth watching once for the spectacle, but it doesn’t hold up on repeat viewings.\",\n",
    "    \"Pixar’s Toy Story 3 tugs at heartstrings with its emotional depth and clever humor. The animation is flawless, and the themes of growing up resonate universally. The climax in the incinerator is one of cinema’s most tense moments. Only gripe? Some jokes feel recycled from earlier films. Still, a near-perfect trilogy finale.\",\n",
    "    \"Tommy Wiseau’s The Room is a trainwreck of incoherent plotting, wooden acting, and baffling production choices. The dialogue feels AI-generated, and the green-screen backdrops are laughable. Yet, its sheer incompetence has spawned a cult following. Watch with friends for ironic laughs—alone, it’s unbearable.\",\n",
    "    \"Nolan’s Inception dazzles with its dream-within-a-dream concept and stunning visuals (e.g., the rotating hallway fight). However, the emotional core feels underdeveloped—Cobb and Mal’s relationship lacks depth. The supporting cast (Hardy, Page) shines, but some characters are thinly written. A technical marvel that prioritizes intellect over heart.\",\n",
    "    \"A visually stunning but emotionally uneven sci-fi epic. Nolan’s ambition shines in the cosmic visuals and theoretical physics, but the pacing drags in the second act. McConaughey’s performance anchors the film, though some dialogue feels overly expository. The ending polarizes audiences—some find it profound, others contrived.\",\n",
    "    \"A joyous celebration of classic Hollywood musicals with vibrant colors, catchy songs, and Gosling/Stone’s electric chemistry. The finale’s bittersweet twist elevates it beyond genre tropes. Minor quibble: Some dance sequences feel under-rehearsed.\",\n",
    "    \"A bloated, incoherent mess of explosions and product placements. The plot is nonsensical, characters are cardboard cutouts, and the runtime (165 minutes!) is unforgivable. Only worth watching for unintentional comedy.\",\n",
    "    \"A relentless, adrenaline-fueled masterpiece. Simmons’ terrifying performance and the blistering jazz sequences create unbearable tension. The finale is cathartic perfection. Not for the faint-hearted—this film demands your full attention.\",\n",
    "    \"Fun but forgettable. The dinosaur action delivers spectacle, but the characters are bland and the plot rehashes Jurassic Park beats. Pratt’s charm saves it from being a total waste.\"\n",
    "]\n",
    "\n",
    "for review in custom_reviews:\n",
    "#     print(f\"Review: {review[:60]}...\")\n",
    "    print(f\"Prediction: {review_predict(review)}\\n\")"
   ]
  },
  {
   "cell_type": "code",
   "execution_count": 19,
   "id": "94e37126",
   "metadata": {
    "collapsed": true,
    "jupyter": {
     "outputs_hidden": true
    }
   },
   "outputs": [
    {
     "ename": "NameError",
     "evalue": "name 'recall' is not defined",
     "output_type": "error",
     "traceback": [
      "\u001b[0;31m---------------------------------------------------------------------------\u001b[0m",
      "\u001b[0;31mNameError\u001b[0m                                 Traceback (most recent call last)",
      "Cell \u001b[0;32mIn[19], line 1\u001b[0m\n\u001b[0;32m----> 1\u001b[0m pr_auc \u001b[38;5;241m=\u001b[39m auc(\u001b[43mrecall\u001b[49m, precision)\n\u001b[1;32m      3\u001b[0m \u001b[38;5;66;03m# Plot\u001b[39;00m\n\u001b[1;32m      4\u001b[0m plt\u001b[38;5;241m.\u001b[39mfigure(figsize\u001b[38;5;241m=\u001b[39m(\u001b[38;5;241m8\u001b[39m, \u001b[38;5;241m6\u001b[39m))\n",
      "\u001b[0;31mNameError\u001b[0m: name 'recall' is not defined"
     ]
    }
   ],
   "source": [
    "pr_auc = auc(recall, precision)\n",
    "\n",
    "# Plot\n",
    "plt.figure(figsize=(8, 6))\n",
    "plt.plot(recall, precision, label=f'PR Curve (AUC = {pr_auc:.2f})')\n",
    "plt.xlabel('Recall')\n",
    "plt.ylabel('Precision')\n",
    "plt.title('Precision-Recall Curve')\n",
    "plt.legend()\n",
    "plt.grid(True)\n",
    "plt.show()"
   ]
  },
  {
   "cell_type": "code",
   "execution_count": null,
   "id": "927ac1f1",
   "metadata": {
    "collapsed": true,
    "jupyter": {
     "outputs_hidden": true
    }
   },
   "outputs": [],
   "source": []
  }
 ],
 "metadata": {
  "kernelspec": {
   "display_name": "Python 3 (ipykernel)",
   "language": "python",
   "name": "python3"
  },
  "language_info": {
   "codemirror_mode": {
    "name": "ipython",
    "version": 3
   },
   "file_extension": ".py",
   "mimetype": "text/x-python",
   "name": "python",
   "nbconvert_exporter": "python",
   "pygments_lexer": "ipython3",
   "version": "3.10.12"
  }
 },
 "nbformat": 4,
 "nbformat_minor": 5
}
